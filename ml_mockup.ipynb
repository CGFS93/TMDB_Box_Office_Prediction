{
 "cells": [
  {
   "cell_type": "code",
   "execution_count": 5,
   "metadata": {},
   "outputs": [],
   "source": [
    "# Import Necessary Libraries\n",
    "import pandas as pd\n",
    "import numpy as np\n",
    "from sklearn import metrics\n",
    "from sklearn.datasets import make_regression\n",
    "from sklearn.pipeline import Pipeline\n",
    "from sklearn.feature_selection import VarianceThreshold\n",
    "from sklearn.linear_model import LinearRegression, Ridge, BayesianRidge, Lasso\n",
    "from sklearn.ensemble import RandomForestRegressor\n",
    "from sklearn.model_selection import train_test_split\n",
    "from sklearn.metrics import mean_absolute_error\n",
    "from xgboost import XGBRegressor"
   ]
  },
  {
   "cell_type": "code",
   "execution_count": 21,
   "metadata": {},
   "outputs": [],
   "source": [
    "# Load data from Database into pandas DataFrame\n",
    "\n",
    "# Create random data for mockup\n",
    "X, y = make_regression(n_samples=500, n_features=5, n_informative=3, random_state=56, noise=4, bias=100.0)\n",
    "\n",
    "X_train, X_test, y_train, y_test = train_test_split(X, y, random_state=42)"
   ]
  },
  {
   "cell_type": "code",
   "execution_count": 22,
   "metadata": {},
   "outputs": [
    {
     "data": {
      "text/plain": [
       "(500, 5)"
      ]
     },
     "execution_count": 22,
     "metadata": {},
     "output_type": "execute_result"
    }
   ],
   "source": [
    "# Features\n",
    "X.shape"
   ]
  },
  {
   "cell_type": "code",
   "execution_count": 23,
   "metadata": {},
   "outputs": [
    {
     "data": {
      "text/plain": [
       "(500,)"
      ]
     },
     "execution_count": 23,
     "metadata": {},
     "output_type": "execute_result"
    }
   ],
   "source": [
    "# Predictor Variable\n",
    "y.shape"
   ]
  },
  {
   "cell_type": "code",
   "execution_count": 24,
   "metadata": {},
   "outputs": [],
   "source": [
    "# Initiate the model - Linear Regression\n",
    "model = LinearRegression().fit(X_train, y_train)\n",
    "\n",
    "# Start Prediction\n",
    "y_pred = model.predict(X_test)"
   ]
  },
  {
   "cell_type": "code",
   "execution_count": 25,
   "metadata": {},
   "outputs": [
    {
     "name": "stdout",
     "output_type": "stream",
     "text": [
      "Mean Absolute Error: 2.7589452623437296\n",
      "r-squared Score: 0.9992434463263903\n"
     ]
    }
   ],
   "source": [
    "# Check model scores\n",
    "# mean absolute error\n",
    "mae = mean_absolute_error(y_test, y_pred)\n",
    "# r2 score\n",
    "score = model.score(X_test, y_test)\n",
    "print(f\"Mean Absolute Error: {mae}\")\n",
    "print(f\"r-squared Score: {score}\")\n"
   ]
  },
  {
   "cell_type": "code",
   "execution_count": 11,
   "metadata": {},
   "outputs": [],
   "source": [
    "# Initiate the model - Ridge Regression\n",
    "model = Ridge().fit(X_train, y_train)\n",
    "\n",
    "# Start Prediction\n",
    "y_pred = model.predict(X_test)"
   ]
  },
  {
   "cell_type": "code",
   "execution_count": 12,
   "metadata": {},
   "outputs": [
    {
     "name": "stdout",
     "output_type": "stream",
     "text": [
      "Mean Absolute Error: 2.7563625495401034\n",
      "r-squared Score: 0.9992451499833539\n"
     ]
    }
   ],
   "source": [
    "# Check model scores\n",
    "# mean absolute error\n",
    "mae = mean_absolute_error(y_test, y_pred)\n",
    "# r2 score\n",
    "score = model.score(X_test, y_test)\n",
    "print(f\"Mean Absolute Error: {mae}\")\n",
    "print(f\"r-squared Score: {score}\")\n"
   ]
  },
  {
   "cell_type": "code",
   "execution_count": 13,
   "metadata": {},
   "outputs": [],
   "source": [
    "# Initiate the model - Bayesian Ridge Regression\n",
    "model = BayesianRidge().fit(X_train, y_train)\n",
    "\n",
    "# Start Prediction\n",
    "y_pred = model.predict(X_test)"
   ]
  },
  {
   "cell_type": "code",
   "execution_count": 14,
   "metadata": {},
   "outputs": [
    {
     "name": "stdout",
     "output_type": "stream",
     "text": [
      "Mean Absolute Error: 2.758931175189472\n",
      "r-squared Score: 0.9992435062104157\n"
     ]
    }
   ],
   "source": [
    "# Check model scores\n",
    "# mean absolute error\n",
    "mae = mean_absolute_error(y_test, y_pred)\n",
    "# r2 score\n",
    "score = model.score(X_test, y_test)\n",
    "print(f\"Mean Absolute Error: {mae}\")\n",
    "print(f\"r-squared Score: {score}\")\n"
   ]
  },
  {
   "cell_type": "code",
   "execution_count": 15,
   "metadata": {},
   "outputs": [],
   "source": [
    "# Initiate model - RandomForestRegression\n",
    "model = RandomForestRegressor().fit(X_train,y_train)\n",
    "\n",
    "# Start Prediction\n",
    "y_pred = model.predict(X_test)"
   ]
  },
  {
   "cell_type": "code",
   "execution_count": 16,
   "metadata": {},
   "outputs": [
    {
     "name": "stdout",
     "output_type": "stream",
     "text": [
      "Mean Absolute Error: 22.32815943098283\n",
      "r-squared Score: 0.94433694135473\n"
     ]
    }
   ],
   "source": [
    "# Check model scores\n",
    "# mean absolute error\n",
    "mae = mean_absolute_error(y_test, y_pred)\n",
    "# r2 score\n",
    "score = model.score(X_test, y_test)\n",
    "print(f\"Mean Absolute Error: {mae}\")\n",
    "print(f\"r-squared Score: {score}\")"
   ]
  },
  {
   "cell_type": "code",
   "execution_count": 17,
   "metadata": {},
   "outputs": [],
   "source": [
    "# Initiate model - XGBRegressor\n",
    "model = XGBRegressor().fit(X_train,y_train)\n",
    "\n",
    "# Start Prediction\n",
    "y_pred = model.predict(X_test)"
   ]
  },
  {
   "cell_type": "code",
   "execution_count": 18,
   "metadata": {},
   "outputs": [
    {
     "name": "stdout",
     "output_type": "stream",
     "text": [
      "Mean Absolute Error: 21.158238619799615\n",
      "r-squared Score: 0.9485214182584532\n"
     ]
    }
   ],
   "source": [
    "# Check model scores\n",
    "# mean absolute error\n",
    "mae = mean_absolute_error(y_test, y_pred)\n",
    "# r2 score\n",
    "score = model.score(X_test, y_test)\n",
    "print(f\"Mean Absolute Error: {mae}\")\n",
    "print(f\"r-squared Score: {score}\")"
   ]
  }
 ],
 "metadata": {
  "kernelspec": {
   "display_name": "Python 3.9.13 ('mlenv')",
   "language": "python",
   "name": "python3"
  },
  "language_info": {
   "codemirror_mode": {
    "name": "ipython",
    "version": 3
   },
   "file_extension": ".py",
   "mimetype": "text/x-python",
   "name": "python",
   "nbconvert_exporter": "python",
   "pygments_lexer": "ipython3",
   "version": "3.9.13"
  },
  "orig_nbformat": 4,
  "vscode": {
   "interpreter": {
    "hash": "008018475fc5ce7c4715d29dd4c0acd35a6ea114508362f4da4d62a22f71ab50"
   }
  }
 },
 "nbformat": 4,
 "nbformat_minor": 2
}
